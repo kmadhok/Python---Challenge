{
 "cells": [
  {
   "cell_type": "code",
   "execution_count": 1,
   "id": "cf28642c",
   "metadata": {},
   "outputs": [],
   "source": [
    "# import poll\n",
    "import os\n",
    "import csv"
   ]
  },
  {
   "cell_type": "code",
   "execution_count": 2,
   "id": "64ac80f9",
   "metadata": {},
   "outputs": [],
   "source": [
    "# open and read csv\n",
    "csvpath=os.path.join('Resources','election_data.csv')"
   ]
  },
  {
   "cell_type": "code",
   "execution_count": 3,
   "id": "b16cd983",
   "metadata": {},
   "outputs": [
    {
     "name": "stdout",
     "output_type": "stream",
     "text": [
      "Resources/election_data.csv\n"
     ]
    }
   ],
   "source": [
    "print(csvpath)"
   ]
  },
  {
   "cell_type": "code",
   "execution_count": 8,
   "id": "96b84341",
   "metadata": {},
   "outputs": [
    {
     "name": "stdout",
     "output_type": "stream",
     "text": [
      "Header: ['Ballot ID', 'County', 'Candidate']\n"
     ]
    }
   ],
   "source": [
    "with open(csvpath, newline='') as csvfile:\n",
    "    csvreader = csv.reader(csvfile, delimiter=',')\n",
    "    csv_header = next(csvreader)\n",
    "    print(f\"Header: {csv_header}\")\n",
    "    \n",
    "    # Declaring variables\n",
    "    votes = []\n",
    "    county = []\n",
    "    candidates = []\n",
    "    CCS = []\n",
    "    DD = []\n",
    "    RAD = []\n",
    "    CCS_votes = 0\n",
    "    DD_votes = 0\n",
    "    RAD_votes = 0\n",
    "\n",
    "    # read each row of data after header\n",
    "    for a in csvreader:\n",
    "        votes.append(int(a[0]))\n",
    "        county.append(a[1])\n",
    "        candidates.append(a[2])\n",
    "\n",
    "    # VOTE COUNT\n",
    "    total_votes = (len(votes))\n",
    "    # print(total_votes)\n",
    "\n",
    "    # Votes by Person\n",
    "    for b in candidates:\n",
    "        if b == \"Charles Casper Stockham\":\n",
    "            CCS.append(candidates)\n",
    "            CCS_votes = len(CCS)\n",
    "            \n",
    "        elif b == \"Diana DeGette\":\n",
    "            DD.append(candidates)\n",
    "            DD_votes = len(DD)\n",
    "            \n",
    "        else:\n",
    "            RAD.append(candidates)\n",
    "            RAD_votes = len(RAD)\n",
    "    \n",
    "    # print(CCS_votes)\n",
    "    # print(DD_votes)\n",
    "    # print(RAD_votes)\n",
    "    \n",
    "    \n",
    "    # Percentages\n",
    "    CCS_percent = round(((CCS_votes / total_votes) * 100), 3)\n",
    "    DD_percent = round(((DD_votes / total_votes) * 100), 3)\n",
    "    RAD_percent = round(((RAD_votes / total_votes) * 100), 3)\n",
    "    # print(CCS_percent)\n",
    "    # print(DD_percent)\n",
    "    # print(RAD_percent)\n",
    "\n",
    "    \n",
    "    # Winner \n",
    "    if CCS_percent > max(DD_percent, RAD_percent):\n",
    "        winner = \"Charles Casper Stockham\"\n",
    "    elif DD_percent > max(CCS_percent, RAD_percent):\n",
    "        winner = \"Diana DeGette\"  \n",
    "    else:\n",
    "        winner = \"Raymon Anthony Doane\"\n",
    "\n"
   ]
  },
  {
   "cell_type": "code",
   "execution_count": 10,
   "id": "caf8f161",
   "metadata": {},
   "outputs": [
    {
     "name": "stdout",
     "output_type": "stream",
     "text": [
      "Election Results\n",
      "-----------------------------------\n",
      "Total Votes: 369711\n",
      "-----------------------------------\n",
      "Charles Casper Stockham: 23.049% (85213\n",
      "Diana DeGette: 73.812% (272892\n",
      "Raymon Anthony Doane: 3.139% (11606\n",
      "-----------------------------------\n",
      "Winner: Diana DeGette\n",
      "-----------------------------------\n"
     ]
    }
   ],
   "source": [
    "print('Election Results')\n",
    "print(\"-----------------------------------\")\n",
    "print(f'Total Votes: {total_votes}')\n",
    "print('-----------------------------------')\n",
    "print(f'Charles Casper Stockham: {CCS_percent}% ({CCS_votes}')\n",
    "print(f'Diana DeGette: {DD_percent}% ({DD_votes}')\n",
    "print(f'Raymon Anthony Doane: {RAD_percent}% ({RAD_votes}')\n",
    "print('-----------------------------------')\n",
    "print(f'Winner: {winner}')\n",
    "print('-----------------------------------')"
   ]
  },
  {
   "cell_type": "code",
   "execution_count": null,
   "id": "78f3150c",
   "metadata": {},
   "outputs": [],
   "source": [
    "    # Print Statements\n",
    "    print(f'''Election Results\n",
    "-----------------------------------\n",
    "Total Votes: {total_votes}\n",
    "-----------------------------------\n",
    "Charles Casper Stockham: {CCS_percent}% ({CCS_votes})\n",
    "Diana DeGette: {DD_percent}% ({DD_votes})\n",
    "Raymon Anthony Doane: {RAD_percent}% ({RAD_votes})\n",
    "-----------------------------------\n",
    "Winner: {winner}\n",
    "-----------------------------------''')\n",
    "\n",
    "\n",
    "    # Output to a text file\n",
    "    file = open(\"output.txt\",\"w\")\n",
    "    file.write(f'''Election Results\n",
    "-----------------------------------\n",
    "Total Votes: {total_votes}\n",
    "-----------------------------------\n",
    "Charles Casper Stockham: {CCS_percent}% ({CCS_votes})\n",
    "Diana DeGette: {DD_percent}% ({DD_votes})\n",
    "Raymon Anthony Doane: {RAD_percent}% ({RAD_votes})\n",
    "-----------------------------------\n",
    "Winner: {winner}\n",
    "-----------------------------------''')\n",
    "    file.close()"
   ]
  },
  {
   "cell_type": "code",
   "execution_count": null,
   "id": "7889188b",
   "metadata": {},
   "outputs": [],
   "source": []
  }
 ],
 "metadata": {
  "kernelspec": {
   "display_name": "Python 3 (ipykernel)",
   "language": "python",
   "name": "python3"
  },
  "language_info": {
   "codemirror_mode": {
    "name": "ipython",
    "version": 3
   },
   "file_extension": ".py",
   "mimetype": "text/x-python",
   "name": "python",
   "nbconvert_exporter": "python",
   "pygments_lexer": "ipython3",
   "version": "3.8.13"
  }
 },
 "nbformat": 4,
 "nbformat_minor": 5
}
