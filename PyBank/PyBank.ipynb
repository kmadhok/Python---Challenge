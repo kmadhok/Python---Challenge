{
 "cells": [
  {
   "cell_type": "code",
   "execution_count": 21,
   "id": "47570b28",
   "metadata": {},
   "outputs": [],
   "source": [
    "import pandas as pd\n",
    "import os\n",
    "import csv"
   ]
  },
  {
   "cell_type": "code",
   "execution_count": 22,
   "id": "a394b898",
   "metadata": {},
   "outputs": [
    {
     "data": {
      "text/html": [
       "<div>\n",
       "<style scoped>\n",
       "    .dataframe tbody tr th:only-of-type {\n",
       "        vertical-align: middle;\n",
       "    }\n",
       "\n",
       "    .dataframe tbody tr th {\n",
       "        vertical-align: top;\n",
       "    }\n",
       "\n",
       "    .dataframe thead th {\n",
       "        text-align: right;\n",
       "    }\n",
       "</style>\n",
       "<table border=\"1\" class=\"dataframe\">\n",
       "  <thead>\n",
       "    <tr style=\"text-align: right;\">\n",
       "      <th></th>\n",
       "      <th>Date</th>\n",
       "      <th>Profit/Losses</th>\n",
       "    </tr>\n",
       "  </thead>\n",
       "  <tbody>\n",
       "    <tr>\n",
       "      <th>0</th>\n",
       "      <td>Jan-10</td>\n",
       "      <td>1088983</td>\n",
       "    </tr>\n",
       "    <tr>\n",
       "      <th>1</th>\n",
       "      <td>Feb-10</td>\n",
       "      <td>-354534</td>\n",
       "    </tr>\n",
       "    <tr>\n",
       "      <th>2</th>\n",
       "      <td>Mar-10</td>\n",
       "      <td>276622</td>\n",
       "    </tr>\n",
       "    <tr>\n",
       "      <th>3</th>\n",
       "      <td>Apr-10</td>\n",
       "      <td>-728133</td>\n",
       "    </tr>\n",
       "    <tr>\n",
       "      <th>4</th>\n",
       "      <td>May-10</td>\n",
       "      <td>852993</td>\n",
       "    </tr>\n",
       "    <tr>\n",
       "      <th>...</th>\n",
       "      <td>...</td>\n",
       "      <td>...</td>\n",
       "    </tr>\n",
       "    <tr>\n",
       "      <th>81</th>\n",
       "      <td>Oct-16</td>\n",
       "      <td>-729004</td>\n",
       "    </tr>\n",
       "    <tr>\n",
       "      <th>82</th>\n",
       "      <td>Nov-16</td>\n",
       "      <td>-112209</td>\n",
       "    </tr>\n",
       "    <tr>\n",
       "      <th>83</th>\n",
       "      <td>Dec-16</td>\n",
       "      <td>516313</td>\n",
       "    </tr>\n",
       "    <tr>\n",
       "      <th>84</th>\n",
       "      <td>Jan-17</td>\n",
       "      <td>607208</td>\n",
       "    </tr>\n",
       "    <tr>\n",
       "      <th>85</th>\n",
       "      <td>Feb-17</td>\n",
       "      <td>382539</td>\n",
       "    </tr>\n",
       "  </tbody>\n",
       "</table>\n",
       "<p>86 rows × 2 columns</p>\n",
       "</div>"
      ],
      "text/plain": [
       "      Date  Profit/Losses\n",
       "0   Jan-10        1088983\n",
       "1   Feb-10        -354534\n",
       "2   Mar-10         276622\n",
       "3   Apr-10        -728133\n",
       "4   May-10         852993\n",
       "..     ...            ...\n",
       "81  Oct-16        -729004\n",
       "82  Nov-16        -112209\n",
       "83  Dec-16         516313\n",
       "84  Jan-17         607208\n",
       "85  Feb-17         382539\n",
       "\n",
       "[86 rows x 2 columns]"
      ]
     },
     "execution_count": 22,
     "metadata": {},
     "output_type": "execute_result"
    }
   ],
   "source": [
    "#file path\n",
    "csv_path = \"budget_data.csv\"\n",
    "df = pd.read_csv(csv_path)\n",
    "df"
   ]
  },
  {
   "cell_type": "code",
   "execution_count": 29,
   "id": "fbcdbaf4",
   "metadata": {},
   "outputs": [
    {
     "name": "stdout",
     "output_type": "stream",
     "text": [
      "86\n"
     ]
    }
   ],
   "source": [
    "Total_Months = df['Date'].count()\n",
    "print(Total_Months)"
   ]
  },
  {
   "cell_type": "code",
   "execution_count": 30,
   "id": "386e7d92",
   "metadata": {},
   "outputs": [],
   "source": [
    "Net_Amount = df['Profit/Losses'].sum()"
   ]
  },
  {
   "cell_type": "code",
   "execution_count": 31,
   "id": "9fc41bee",
   "metadata": {},
   "outputs": [],
   "source": [
    "Greatest_Increase = df['Profit/Losses'].max()"
   ]
  },
  {
   "cell_type": "code",
   "execution_count": 32,
   "id": "721fa07b",
   "metadata": {},
   "outputs": [],
   "source": [
    "Greatest_Decrease = df['Profit/Losses'].min()"
   ]
  },
  {
   "cell_type": "code",
   "execution_count": 34,
   "id": "16074be0",
   "metadata": {},
   "outputs": [
    {
     "name": "stdout",
     "output_type": "stream",
     "text": [
      "262374.3953488372\n"
     ]
    }
   ],
   "source": [
    "Average_Change = Net_Amount/Total_Months\n",
    "print(Average_Change)"
   ]
  },
  {
   "cell_type": "code",
   "execution_count": 38,
   "id": "0ade3dd7",
   "metadata": {},
   "outputs": [
    {
     "name": "stdout",
     "output_type": "stream",
     "text": [
      "Total Months: 86\n",
      "Total: 22564198\n",
      "Average Change: 262374.3953488372\n",
      "Greatest Increase in Profits: 1141840\n",
      "Greatest Decrease in Profits: -1194133\n"
     ]
    }
   ],
   "source": [
    "print('Total Months:',Total_Months)\n",
    "print('Total:',Net_Amount)\n",
    "print('Average Change:',Average_Change)\n",
    "print('Greatest Increase in Profits:',Greatest_Increase)\n",
    "print('Greatest Decrease in Profits:',Greatest_Decrease)"
   ]
  },
  {
   "cell_type": "code",
   "execution_count": 40,
   "id": "87894ec9",
   "metadata": {},
   "outputs": [],
   "source": [
    "df.to_csv('PyBankFinished.txt', header=None, index=None, sep='\\t', mode='a')"
   ]
  },
  {
   "cell_type": "code",
   "execution_count": null,
   "id": "6ce89552",
   "metadata": {},
   "outputs": [],
   "source": []
  }
 ],
 "metadata": {
  "kernelspec": {
   "display_name": "Python [conda env:PythonData38] *",
   "language": "python",
   "name": "conda-env-PythonData38-py"
  },
  "language_info": {
   "codemirror_mode": {
    "name": "ipython",
    "version": 3
   },
   "file_extension": ".py",
   "mimetype": "text/x-python",
   "name": "python",
   "nbconvert_exporter": "python",
   "pygments_lexer": "ipython3",
   "version": "3.8.12"
  }
 },
 "nbformat": 4,
 "nbformat_minor": 5
}
