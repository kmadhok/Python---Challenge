{
 "cells": [
  {
   "cell_type": "code",
   "execution_count": 1,
   "id": "cbba504f",
   "metadata": {},
   "outputs": [],
   "source": [
    "import os\n",
    "import csv"
   ]
  },
  {
   "cell_type": "code",
   "execution_count": 6,
   "id": "093680ed",
   "metadata": {},
   "outputs": [],
   "source": [
    "data = os.path.join(\"Resources\", \"budget_data.csv\")"
   ]
  },
  {
   "cell_type": "code",
   "execution_count": 7,
   "id": "2a18a472",
   "metadata": {},
   "outputs": [
    {
     "name": "stdout",
     "output_type": "stream",
     "text": [
      "Header: ['Date', 'Profit/Losses']\n"
     ]
    }
   ],
   "source": [
    "with open(data, newline=\"\") as csvfile:\n",
    "    csvreader = csv.reader(csvfile, delimiter=',')\n",
    "    csv_header = next(csvreader)\n",
    "    print(f\"Header: {csv_header}\")\n",
    "    \n",
    "    # find net amount of profit and loss\n",
    "    ProfitAndLoss = []\n",
    "    months = []\n",
    "\n",
    "    # read each row of data after header\n",
    "    for rows in csvreader:\n",
    "        ProfitAndLoss.append(int(rows[1]))\n",
    "        months.append(rows[0])\n",
    "\n",
    "    # find revenue change\n",
    "    rev_difference =[]\n",
    "\n",
    "    for x in range(1, len(P)):\n",
    "        rev_difference.append((int(ProfitAndLoss[x]) - int(ProfitAndLoss[x-1])))\n",
    "\n",
    "    # calculate average revenue change\n",
    "    rev_ave_change = sum(rev_difference) / len(rev_difference)\n",
    "    rev_ave = round(rev_ave_change, 2)\n",
    "\n",
    "    # calculate total length of months\n",
    "    total_months = len(months)\n",
    "\n",
    "    # greatest increase in revenue\n",
    "    greatest_increase = max(rev_difference)\n",
    "\n",
    "    #greatest decrease in revenue\n",
    "    greatest_decrease = min(rev_difference)\n"
   ]
  },
  {
   "cell_type": "code",
   "execution_count": 8,
   "id": "7b8c02fd",
   "metadata": {},
   "outputs": [
    {
     "name": "stdout",
     "output_type": "stream",
     "text": [
      "Financial Analysis\n",
      "Total Months:86\n",
      "Total:$22564198\n",
      "Average Change:$-8311.11\n",
      "Greatest Increase in Profits: Aug-16 ($1862002)\n",
      "Greatest Decrease in Profits: Feb-14 ($-1825558)\n"
     ]
    }
   ],
   "source": [
    " # print Results\n",
    "print (\"Financial Analysis\")\n",
    "\n",
    "print (\"Total Months:\" + str(total_months))\n",
    "\n",
    "print(\"Total:\" + \"$\" + str(sum(ProfitAndLoss)))\n",
    "\n",
    "print (\"Average Change:\" + \"$\" + str(rev_ave))\n",
    "\n",
    "print(\"Greatest Increase in Profits: \" + str(months[rev_difference.index(max(rev_difference))+1]) + \" \" + \"($\" + str(greatest_increase) + \")\")\n",
    "\n",
    "print(\"Greatest Decrease in Profits: \" + str(months[rev_difference.index(min(rev_difference))+1]) + \" \" + \"($\" + str(greatest_decrease) + \")\")\n",
    "\n",
    "\n",
    "            # output to a text file\n",
    "file = open(\"output.txt\",\"w\")\n",
    "\n",
    "file.write(\"Financial Analysis\" + \"\\n\")\n",
    "\n",
    "file.write(\"....................................................................................\" + \"\\n\")\n",
    "\n",
    "file.write(\"total months: \" + str(total_months) + \"\\n\")\n",
    "\n",
    "file.write(\"Total: \" + \"$\" + str(sum(ProfitAndLoss)) + \"\\n\")\n",
    "\n",
    "file.write(\"Average change: \" + \"$\" + str(rev_ave) + \"\\n\")\n",
    "\n",
    "file.write(\"Greatest Increase in Profits: \" + str(months[rev_difference.index(max(rev_difference))+1]) + \" \" + \"($\" + str(greatest_increase) + \")\\n\")\n",
    "\n",
    "file.write(\"Greatest Decrease in Profits: \" + str(months[rev_difference.index(min(rev_difference))+1]) + \" \" + \"($\" + str(greatest_decrease) + \")\\n\")\n",
    "\n",
    "file.close()"
   ]
  },
  {
   "cell_type": "code",
   "execution_count": null,
   "id": "b9be67ab",
   "metadata": {},
   "outputs": [],
   "source": []
  },
  {
   "cell_type": "code",
   "execution_count": null,
   "id": "58946b58",
   "metadata": {},
   "outputs": [],
   "source": []
  }
 ],
 "metadata": {
  "kernelspec": {
   "display_name": "Python 3 (ipykernel)",
   "language": "python",
   "name": "python3"
  },
  "language_info": {
   "codemirror_mode": {
    "name": "ipython",
    "version": 3
   },
   "file_extension": ".py",
   "mimetype": "text/x-python",
   "name": "python",
   "nbconvert_exporter": "python",
   "pygments_lexer": "ipython3",
   "version": "3.8.13"
  }
 },
 "nbformat": 4,
 "nbformat_minor": 5
}
